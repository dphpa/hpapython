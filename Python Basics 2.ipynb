{
 "cells": [
  {
   "cell_type": "code",
   "execution_count": null,
   "id": "d8e31e21-56e7-4a20-9ec2-b235893092bd",
   "metadata": {},
   "outputs": [],
   "source": [
    "Name: "
   ]
  },
  {
   "cell_type": "raw",
   "id": "58fea7ae-f693-48bf-aaa6-50486b5e9ff6",
   "metadata": {},
   "source": [
    "Intro: Much like spreadsheets, Python notebooks allows us to organize data in a way that helps us to make decisions. The only difference is that we are using computer programming. Thus, Python is using computer programs to input,organize and process data."
   ]
  },
  {
   "cell_type": "raw",
   "id": "752448e0-db3b-4541-a368-a2fa74e0104a",
   "metadata": {},
   "source": [
    " Part 1: Creating & Sorting Data Frames (df) \n",
    " __________________________________________________________________________________________________________________\n",
    "Calculating column sums "
   ]
  },
  {
   "cell_type": "code",
   "execution_count": null,
   "id": "734e183f-a4f4-4395-82ef-d1ffce469316",
   "metadata": {
    "scrolled": true
   },
   "outputs": [],
   "source": [
    "# Run the program below to generate table\n",
    "\n",
    "import pandas as pd #telling the computer to load info below as pur data\n",
    "\n",
    "data = {\n",
    "  \"calories\": [420, 380, 390],\n",
    "  \"duration\": [50, 40, 45]\n",
    "}\n",
    "\n",
    "#load data into a DataFrame object:\n",
    "df_workout= pd.DataFrame(data)\n",
    "\n",
    "print(df_workout)"
   ]
  },
  {
   "cell_type": "code",
   "execution_count": null,
   "id": "0781ff2e-517d-4ea6-b413-33471471b319",
   "metadata": {},
   "outputs": [],
   "source": [
    "# Use the program to answer the questions below\n",
    "\n",
    "# Find the 'sum' of the column 'calories' \n",
    "\n",
    "df_???['calories'].???()"
   ]
  },
  {
   "cell_type": "code",
   "execution_count": null,
   "id": "3af01f62-5f1f-486f-a982-1cd809fa52e8",
   "metadata": {},
   "outputs": [],
   "source": [
    "# Use the program to answer the questions below\n",
    "\n",
    "# Find the 'sum' of the column 'duration' \n",
    "\n",
    "df_workout['???'].???()"
   ]
  },
  {
   "cell_type": "raw",
   "id": "12cb2396-20fe-4444-851f-284d65a0ff21",
   "metadata": {},
   "source": [
    "Question 1a: How many colories did this person burn in 3 days? "
   ]
  },
  {
   "cell_type": "raw",
   "id": "e060060f-bff8-45a6-83fe-22a4c230dbd5",
   "metadata": {},
   "source": [
    "Answer: "
   ]
  },
  {
   "cell_type": "raw",
   "id": "78ca9886-427e-4b41-bf11-58f3add9a118",
   "metadata": {},
   "source": [
    "Question 1b: How many minutes did this person workout in 3 days? "
   ]
  },
  {
   "cell_type": "raw",
   "id": "e0b7b37d-dd09-44b8-b8e4-aa2abc8ba976",
   "metadata": {},
   "source": [
    "Answer: "
   ]
  },
  {
   "cell_type": "raw",
   "id": "ff019df7-cbe2-498d-8837-a5227bd45970",
   "metadata": {},
   "source": [
    " Part 2: Creating & Sorting Data Frames (df) \n",
    " __________________________________________________________________________________________________________________\n",
    "Calculating column averages "
   ]
  },
  {
   "cell_type": "code",
   "execution_count": null,
   "id": "2a9363d7-dfe3-4e3c-bd8a-2956ee9fc330",
   "metadata": {},
   "outputs": [],
   "source": [
    "# Run the program below to generate table\n",
    "\n",
    "# create a column called 'height' with the following data set [6.1, 5.10, 5.9, 6.3] \n",
    "\n",
    "# create a column called 'weight' with the following data set [200, 180, 200, 230 ] \n",
    "\n",
    "# Name the table 'players'\n",
    "\n",
    "import pandas as pd #telling the computer to load info below as pur data\n",
    "\n",
    "data = {\n",
    "  \"???\": [???, ???, ???, ???],\n",
    "  \"???\": [???, ???, ???, ???]\n",
    "}\n",
    "\n",
    "#load data into a DataFrame object:\n",
    "df_???= pd.DataFrame(data)\n",
    "\n",
    "print(df_???)"
   ]
  },
  {
   "cell_type": "code",
   "execution_count": null,
   "id": "3a19e2ea-ca43-4e83-84fa-76ed3cd8da8c",
   "metadata": {},
   "outputs": [],
   "source": [
    "# Use the program to answer the questions below\n",
    "\n",
    "# Find the 'mean' of the column 'height' \n",
    "\n",
    "df_???['height'].???()"
   ]
  },
  {
   "cell_type": "code",
   "execution_count": null,
   "id": "79de66b7-e434-4456-aa41-dae03dbf097f",
   "metadata": {},
   "outputs": [],
   "source": [
    "# Use the program to answer the questions below\n",
    "\n",
    "# Find the 'mean' of the column 'weight' \n",
    "\n",
    "df_players['???'].???()"
   ]
  },
  {
   "cell_type": "raw",
   "id": "b68ff19a-8c09-4734-8b59-a01cd1911fd2",
   "metadata": {},
   "source": [
    "Question 2a: What is the average height of the players? "
   ]
  },
  {
   "cell_type": "raw",
   "id": "c3d9c270-97be-4785-8db0-12f48f4c9ee8",
   "metadata": {},
   "source": [
    "Answer: "
   ]
  },
  {
   "cell_type": "raw",
   "id": "90296039-60f3-4964-94ac-faad61e424fb",
   "metadata": {},
   "source": [
    "Question 2b: What is the average weight of the players? "
   ]
  },
  {
   "cell_type": "raw",
   "id": "4def185f-4b50-432d-bd4b-ccf4872f8641",
   "metadata": {},
   "source": [
    "Answer: "
   ]
  },
  {
   "cell_type": "raw",
   "id": "d27a3009-4367-4fb0-aebe-069ca916e571",
   "metadata": {},
   "source": [
    "Question 2c: Assuming that you are the coach of a basketball team, what are your opinions about the players height and/or weight? "
   ]
  },
  {
   "cell_type": "raw",
   "id": "f710fdbe-b1f1-4156-a076-b80a28cc31a5",
   "metadata": {},
   "source": [
    "Answer:"
   ]
  },
  {
   "cell_type": "raw",
   "id": "f33d4103-c415-42a8-b186-cc06436c1aae",
   "metadata": {},
   "source": [
    " Part 2: Creating & Sorting Data Frames (df) \n",
    " __________________________________________________________________________________________________________________\n",
    "Adding Columns/Additional Data "
   ]
  },
  {
   "cell_type": "code",
   "execution_count": null,
   "id": "d6103c08-128e-47a8-bf7c-2f03fceb92f1",
   "metadata": {},
   "outputs": [],
   "source": [
    "# Run the program below to generate table\n",
    "\n",
    "# Name the 'height' column  \n",
    "\n",
    "# Name the'weight' column  \n",
    "\n",
    "# Add the a column called 'ppg' with the following data set [12, 20, 5, 13 ] \n",
    "\n",
    "# Name the table 'players2'\n",
    "\n",
    "import pandas as pd #telling the computer to load info below as pur data\n",
    "\n",
    "data = {\n",
    "  \"???\": [6.1, 5.10, 5.9, 6.3],\n",
    "  \"???\": [200, 180, 200, 230],\n",
    "  \"???\": [???, ???, ???, ???]\n",
    "}\n",
    "\n",
    "#load data into a DataFrame object:\n",
    "df_???= pd.DataFrame(data)\n",
    "\n",
    "print(df_???)"
   ]
  },
  {
   "cell_type": "code",
   "execution_count": null,
   "id": "291e1b21-901a-44ac-9a13-3f3f77a4ce2e",
   "metadata": {},
   "outputs": [],
   "source": [
    "# Question 3a: How many points are all four players scoring per game? \n",
    "\n",
    "df_???['???'].sum()\n",
    "\n"
   ]
  },
  {
   "cell_type": "code",
   "execution_count": null,
   "id": "f7df4cd1-0dd2-4c3e-b5ba-f6b6c4e2be28",
   "metadata": {},
   "outputs": [],
   "source": [
    "# Question 3b: How many points did their highest scorer attain? \n",
    "\n",
    "df_???['???'].max()"
   ]
  },
  {
   "cell_type": "code",
   "execution_count": null,
   "id": "5947455f-bf41-410e-82c8-646c0b2e9f1d",
   "metadata": {},
   "outputs": [],
   "source": [
    "# Question 3c: Let's assume that these are the top 4 players on the team.\n",
    "\n",
    "# If the next team averages 70 points per game,\n",
    "\n",
    "# How many points will the 5th player have to score?\n",
    "\n",
    "player_5 = 71 - df_???['???'].sum() \n",
    "\n",
    "print(???_5)\n",
    "\n"
   ]
  }
 ],
 "metadata": {
  "kernelspec": {
   "display_name": "Python 3 (ipykernel)",
   "language": "python",
   "name": "python3"
  },
  "language_info": {
   "codemirror_mode": {
    "name": "ipython",
    "version": 3
   },
   "file_extension": ".py",
   "mimetype": "text/x-python",
   "name": "python",
   "nbconvert_exporter": "python",
   "pygments_lexer": "ipython3",
   "version": "3.10.11"
  }
 },
 "nbformat": 4,
 "nbformat_minor": 5
}
