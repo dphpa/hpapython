{
  "metadata": {
    "language_info": {
      "codemirror_mode": {
        "name": "python",
        "version": 3
      },
      "file_extension": ".py",
      "mimetype": "text/x-python",
      "name": "python",
      "nbconvert_exporter": "python",
      "pygments_lexer": "ipython3",
      "version": "3.8"
    },
    "kernelspec": {
      "name": "python",
      "display_name": "Python (Pyodide)",
      "language": "python"
    }
  },
  "nbformat_minor": 4,
  "nbformat": 4,
  "cells": [
    {
      "cell_type": "raw",
      "source": "Name: ",
      "metadata": {}
    },
    {
      "cell_type": "raw",
      "source": "Intro: Much like spreadsheets, Python notebooks allows us to organize data in a way that helps us to make decisions. The only difference is that we are using computer programming. Thus, Python is using computer programs to input,organize and process data.",
      "metadata": {}
    },
    {
      "cell_type": "raw",
      "source": " Part 1: Creating & Printing Data (Integers) \n ________________________________________________________________________________________________________________\n \n Assign variables and print the results",
      "metadata": {}
    },
    {
      "cell_type": "code",
      "source": "a = #\n\nprint(a)",
      "metadata": {
        "trusted": true
      },
      "execution_count": null,
      "outputs": []
    },
    {
      "cell_type": "code",
      "source": "# assign numers to a & b and print results\na = #\n\nb = #\n\nprint(a + ?)",
      "metadata": {
        "trusted": true
      },
      "execution_count": null,
      "outputs": []
    },
    {
      "cell_type": "code",
      "source": "a = #\n\nb = #\n\nc = #\n\nprint(a + ? - ?)",
      "metadata": {
        "trusted": true
      },
      "execution_count": null,
      "outputs": []
    },
    {
      "cell_type": "raw",
      "source": " Part 2: Creating & Printing Data (Strings) \n ________________________________________________________________________________________________________________\n \n Assign variables and print the results",
      "metadata": {}
    },
    {
      "cell_type": "code",
      "source": "a = 'Insert first Name'\n\nprint(a)",
      "metadata": {
        "trusted": true
      },
      "execution_count": null,
      "outputs": []
    },
    {
      "cell_type": "code",
      "source": "a = 'Insert Last Name'\n\nb = 'Insert Last Name'\n\nprint(a, ?)",
      "metadata": {
        "trusted": true
      },
      "execution_count": null,
      "outputs": []
    },
    {
      "cell_type": "code",
      "source": "# Change the ??? to be your first name! \nfirst_name = \"First\"\n\n# print is the simplest Python function -- it allows us to view our data! \nprint(f\">>> Hello world, I'm {first_name}!\")",
      "metadata": {
        "trusted": true
      },
      "execution_count": null,
      "outputs": []
    },
    {
      "cell_type": "code",
      "source": "# Change the ??? to be your name! \nfirst_name = \"First\"\nlast_name = \"Last\"\n\n# print is the simplest Python function -- it allows us to view our data! \nprint(f\">>> Hello world, my name is {first_name} {???_???}!\")",
      "metadata": {},
      "execution_count": null,
      "outputs": []
    },
    {
      "cell_type": "raw",
      "source": " Part 3: Creating & Printing Data (Lists) \n ________________________________________________________________________________________________________________\n \n Assign variables and print the results",
      "metadata": {}
    },
    {
      "cell_type": "code",
      "source": "grocery_list = [\"eggs\", \"milk\", \"juice\"]   # Assign the list to the variable \"grocery_list\"\nprint(grocery_list[???])  # Replace ??? with a number to print \"milk\"\n",
      "metadata": {
        "trusted": true
      },
      "execution_count": null,
      "outputs": []
    },
    {
      "cell_type": "code",
      "source": "# Copy the code above, create a list called 'practice_planets'. The list should contain Earth, Mars & Jupiter.\n\npractice_planets = [\"earth\", \"mars\", \"jupiter\"]   \nprint(practice_???[???])  # Replace ??? with a number to print \"jupiter\"\n",
      "metadata": {
        "tags": [],
        "trusted": true
      },
      "execution_count": null,
      "outputs": []
    }
  ]
}