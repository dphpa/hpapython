{
  "metadata": {
    "language_info": {
      "codemirror_mode": {
        "name": "python",
        "version": 3
      },
      "file_extension": ".py",
      "mimetype": "text/x-python",
      "name": "python",
      "nbconvert_exporter": "python",
      "pygments_lexer": "ipython3",
      "version": "3.8"
    },
    "kernelspec": {
      "name": "python",
      "display_name": "Python (Pyodide)",
      "language": "python"
    }
  },
  "nbformat_minor": 4,
  "nbformat": 4,
  "cells": [
    {
      "cell_type": "raw",
      "source": "Intro 2: Now that we know the basics of Python, it is now time to learn how to export and explore data. Exporting data tables are called pandas. ",
      "metadata": {}
    },
    {
      "cell_type": "raw",
      "source": " Part 1: Import tables and extract information \n ________________________________________________________________________________________________________________\n \n Assign variables and print the results",
      "metadata": {}
    },
    {
      "cell_type": "code",
      "source": "import pandas as pd #telling the computer to load info below as pur data\n\ndata = {\n  \"calories\": [420, 380, 390],\n  \"duration\": [50, 40, 45]\n}\n\n#load data into a DataFrame object:\ndf = pd.DataFrame(data)\n\nprint(df) ",
      "metadata": {
        "trusted": true
      },
      "execution_count": 1,
      "outputs": [
        {
          "name": "stdout",
          "text": "   calories  duration\n0       420        50\n1       380        40\n2       390        45\n",
          "output_type": "stream"
        }
      ]
    },
    {
      "cell_type": "raw",
      "source": "Looking at the information in the table above, what's occuring?\n\n#answer here: ",
      "metadata": {}
    },
    {
      "cell_type": "code",
      "source": "#Copy the code above and paste below\n#Change data to data_2\n#Change calories to temp (80, 90, 100) \n#Change duration to crime_arrests (100, 150, 300) \n\ndata_2= {\n  \"temp\": [80, 90, 100],\n  \"crime_arrests\": [100, 150, 300]\n}\n\n#load data into a DataFrame object:\ndf = pd.DataFrame(data_2)\n\nprint(df) \n",
      "metadata": {
        "trusted": true
      },
      "execution_count": 9,
      "outputs": [
        {
          "name": "stdout",
          "text": "   temp  crime_arrests\n0    80            100\n1    90            150\n2   100            300\n",
          "output_type": "stream"
        }
      ]
    },
    {
      "cell_type": "raw",
      "source": "Looking at the information in the table above, what can we conclude?\n\n#Answer Here: ",
      "metadata": {}
    },
    {
      "cell_type": "raw",
      "source": "After looking at the table above (temp & crime), what will happen to crime_arrests when temp drops and why?\n\n#Answer Here: ",
      "metadata": {}
    },
    {
      "cell_type": "raw",
      "source": " Part 2: Creating & Printing Data (Strings) \n __________________________________________________________________________________________________________________\n \n Assign variables and print the results",
      "metadata": {}
    },
    {
      "cell_type": "raw",
      "source": "Let's assum ",
      "metadata": {}
    },
    {
      "cell_type": "code",
      "source": "",
      "metadata": {
        "trusted": true
      },
      "execution_count": 8,
      "outputs": [
        {
          "name": "stdout",
          "text": "Eugene Pope\n",
          "output_type": "stream"
        }
      ]
    },
    {
      "cell_type": "code",
      "source": "",
      "metadata": {
        "trusted": true
      },
      "execution_count": 9,
      "outputs": [
        {
          "name": "stdout",
          "text": ">>> Hello world, I'm First!\n",
          "output_type": "stream"
        }
      ]
    },
    {
      "cell_type": "code",
      "source": "",
      "metadata": {},
      "execution_count": null,
      "outputs": []
    },
    {
      "cell_type": "raw",
      "source": " Part 3: Creating & Printing Data (Lists) \n __________________________________________________________________________________________________________________\n \n Assign variables and print the results",
      "metadata": {}
    },
    {
      "cell_type": "code",
      "source": "grocery_list = [\"eggs\", \"milk\", \"juice\"]   # Assign the list to the variable \"grocery_list\"\nprint(grocery_list[???])  # Replace ??? with a number to print \"milk\"\n",
      "metadata": {
        "trusted": true
      },
      "execution_count": null,
      "outputs": [
        {
          "name": "stdout",
          "text": "milk\n",
          "output_type": "stream"
        }
      ]
    },
    {
      "cell_type": "code",
      "source": "# Copy the code above, create a list called 'practice_planets'. The list should contain Earth, Mars & Jupiter.\n\npractice_planets = [\"earth\", \"mars\", \"jupiter\"]   \nprint(practice_planets[2])  # Replace ??? with a number to print \"jupiter\"\n",
      "metadata": {
        "trusted": true
      },
      "execution_count": 12,
      "outputs": [
        {
          "name": "stdout",
          "text": "jupiter\n",
          "output_type": "stream"
        }
      ]
    },
    {
      "cell_type": "code",
      "source": "",
      "metadata": {},
      "execution_count": null,
      "outputs": []
    }
  ]
}